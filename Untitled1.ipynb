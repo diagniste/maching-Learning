{
 "cells": [
  {
   "cell_type": "code",
   "execution_count": 16,
   "id": "64a6e579",
   "metadata": {},
   "outputs": [],
   "source": [
    "import sys\n",
    "sys.path.append(\"C:/Users/diagn/OneDrive/Documents/here\")"
   ]
  },
  {
   "cell_type": "code",
   "execution_count": 18,
   "id": "6ad6697b",
   "metadata": {},
   "outputs": [],
   "source": [
    "import diagniste"
   ]
  },
  {
   "cell_type": "code",
   "execution_count": 5,
   "id": "c204ac79",
   "metadata": {},
   "outputs": [
    {
     "name": "stdout",
     "output_type": "stream",
     "text": [
      "Help on package diagniste:\n",
      "\n",
      "NAME\n",
      "    diagniste\n",
      "\n",
      "PACKAGE CONTENTS\n",
      "    divide\n",
      "    example\n",
      "    setup\n",
      "\n",
      "FILE\n",
      "    (built-in)\n",
      "\n",
      "\n"
     ]
    }
   ],
   "source": [
    "help(diagniste)"
   ]
  },
  {
   "cell_type": "code",
   "execution_count": 6,
   "id": "8199c741",
   "metadata": {},
   "outputs": [],
   "source": [
    "from diagniste import example"
   ]
  },
  {
   "cell_type": "code",
   "execution_count": 7,
   "id": "ca95de3a",
   "metadata": {},
   "outputs": [
    {
     "name": "stdout",
     "output_type": "stream",
     "text": [
      "Help on module diagniste.example in diagniste:\n",
      "\n",
      "NAME\n",
      "    diagniste.example\n",
      "\n",
      "FUNCTIONS\n",
      "    add_one(number)\n",
      "\n",
      "FILE\n",
      "    c:\\users\\diagn\\onedrive\\documents\\here\\diagniste\\example.py\n",
      "\n",
      "\n"
     ]
    }
   ],
   "source": [
    "help(example)"
   ]
  },
  {
   "cell_type": "code",
   "execution_count": 8,
   "id": "efce0f3e",
   "metadata": {},
   "outputs": [],
   "source": [
    "from diagniste.example import add_one as ad"
   ]
  },
  {
   "cell_type": "code",
   "execution_count": 9,
   "id": "53de6f2f",
   "metadata": {},
   "outputs": [
    {
     "name": "stdout",
     "output_type": "stream",
     "text": [
      "Help on function add_one in module diagniste.example:\n",
      "\n",
      "add_one(number)\n",
      "\n"
     ]
    }
   ],
   "source": [
    "help(ad)"
   ]
  },
  {
   "cell_type": "code",
   "execution_count": 11,
   "id": "54b14863",
   "metadata": {},
   "outputs": [
    {
     "data": {
      "text/plain": [
       "35"
      ]
     },
     "execution_count": 11,
     "metadata": {},
     "output_type": "execute_result"
    }
   ],
   "source": [
    "ad(34)"
   ]
  },
  {
   "cell_type": "code",
   "execution_count": 12,
   "id": "92adc56b",
   "metadata": {},
   "outputs": [],
   "source": [
    "from diagniste.divide import divide as dv"
   ]
  },
  {
   "cell_type": "code",
   "execution_count": 13,
   "id": "f22140fe",
   "metadata": {},
   "outputs": [
    {
     "data": {
      "text/plain": [
       "17.0"
      ]
     },
     "execution_count": 13,
     "metadata": {},
     "output_type": "execute_result"
    }
   ],
   "source": [
    "dv(34,2)"
   ]
  },
  {
   "cell_type": "code",
   "execution_count": null,
   "id": "38d9eb0b",
   "metadata": {},
   "outputs": [],
   "source": []
  }
 ],
 "metadata": {
  "kernelspec": {
   "display_name": "Python 3 (ipykernel)",
   "language": "python",
   "name": "python3"
  },
  "language_info": {
   "codemirror_mode": {
    "name": "ipython",
    "version": 3
   },
   "file_extension": ".py",
   "mimetype": "text/x-python",
   "name": "python",
   "nbconvert_exporter": "python",
   "pygments_lexer": "ipython3",
   "version": "3.9.7"
  }
 },
 "nbformat": 4,
 "nbformat_minor": 5
}
